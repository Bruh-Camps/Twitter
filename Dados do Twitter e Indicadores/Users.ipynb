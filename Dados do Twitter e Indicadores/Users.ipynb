{
 "cells": [
  {
   "cell_type": "markdown",
   "metadata": {},
   "source": [
    "# Produção dos gráficos de Usuários vs. Indicadores"
   ]
  },
  {
   "cell_type": "markdown",
   "metadata": {},
   "source": [
    "A partir de dados coletados pela API do Twitter, o código a seguir permite a extração do número de usuários únicos ativos ao longo das semanas epidemiológicas.\n",
    "Então, esses dados são cruzados com os indicadores para produzir gráficos comparativos."
   ]
  },
  {
   "cell_type": "code",
   "execution_count": 48,
   "metadata": {},
   "outputs": [],
   "source": [
    "import pandas as pd\n",
    "import os\n",
    "from datetime import datetime"
   ]
  },
  {
   "cell_type": "markdown",
   "metadata": {},
   "source": [
    "### Obtendo número de usuários"
   ]
  },
  {
   "cell_type": "code",
   "execution_count": 77,
   "metadata": {
    "collapsed": true,
    "jupyter": {
     "outputs_hidden": true
    }
   },
   "outputs": [
    {
     "name": "stdout",
     "output_type": "stream",
     "text": [
      "Reading week 2\n",
      "Reading week 3\n",
      "Reading week 4\n",
      "Reading week 5\n",
      "Reading week 6\n",
      "Reading week 7\n",
      "Reading week 8\n",
      "Reading week 9\n",
      "Reading week 10\n",
      "Reading week 11\n",
      "Reading week 12\n",
      "Reading week 13\n",
      "Reading week 14\n",
      "Reading week 15\n",
      "Reading week 16\n",
      "Reading week 17\n",
      "Reading week 18\n",
      "Reading week 19\n",
      "Reading week 20\n",
      "Reading week 21\n",
      "Reading week 22\n",
      "Reading week 23\n",
      "Reading week 24\n",
      "Reading week 25\n",
      "Reading week 26\n",
      "Reading week 27\n",
      "Reading week 28\n",
      "Reading week 29\n",
      "Reading week 30\n",
      "Reading week 31\n",
      "Reading week 32\n",
      "Reading week 33\n",
      "Reading week 34\n",
      "Reading week 35\n",
      "Reading week 36\n",
      "Reading week 37\n"
     ]
    }
   ],
   "source": [
    "path = os.getcwd() + '\\\\results\\\\results_weekly\\\\week_'\n",
    "filename = 'tweets_users_'\n",
    "unique_users = pd.DataFrame(columns=['total_users', 'tweets_users', 'retweets_users'])\n",
    "\n",
    "for i in range(2,38):\n",
    "    print('Reading week', i)\n",
    "    tempDf = pd.read_csv(path + str(i) + '\\\\' + filename + str(i) + '.csv', delimiter=';', usecols=['user_id'])\n",
    "    rtTempDf = pd.read_csv(path + str(i) + '\\\\rt_' + filename + str(i) + '.csv', delimiter=';', usecols=['user_id'])\n",
    "    \n",
    "    auxDf = pd.concat([tempDf, rtTempDf])\n",
    "    \n",
    "    unique_users = unique_users.append({\n",
    "        'total_users': len(auxDf['user_id'].unique()),\n",
    "        'tweets_users': len(tempDf['user_id'].unique()),\n",
    "        'retweets_users': len(rtTempDf['user_id'].unique())\n",
    "    }, ignore_index=True)"
   ]
  },
  {
   "cell_type": "markdown",
   "metadata": {},
   "source": [
    "### Anexando N. de Usuários ao DataFrame de Tweets"
   ]
  },
  {
   "cell_type": "code",
   "execution_count": 78,
   "metadata": {},
   "outputs": [],
   "source": [
    "tweets = pd.read_csv('tweetsAndRetweets.csv')"
   ]
  },
  {
   "cell_type": "code",
   "execution_count": 80,
   "metadata": {},
   "outputs": [],
   "source": [
    "for column in unique_users.columns:\n",
    "    tweets[column] = unique_users[column]"
   ]
  },
  {
   "cell_type": "markdown",
   "metadata": {},
   "source": [
    "### Lendo e tratando indicadores"
   ]
  },
  {
   "cell_type": "code",
   "execution_count": 83,
   "metadata": {},
   "outputs": [],
   "source": [
    "indicadores = pd.read_csv('indicadores.csv')\n",
    "\n",
    "indicadores['week_last_day'] = indicadores['week_last_day'].apply(lambda x: datetime.strptime(x, '%d/%m/%Y')) # Convertendo os dias de String para Datetime\n",
    "indicadores = indicadores.loc[indicadores['region'] == 'Brasil']\n",
    "indicadores = indicadores[indicadores['week_last_day'] >= pd.to_datetime('2020-05-09')] # Cortando primeiras semanas para parear com o \"df\"\n",
    "indicadores = indicadores.sort_values(by='week_last_day')\n",
    "indicadores = indicadores.reset_index()\n",
    "indicadores = indicadores.drop(columns=['index', 'Unnamed: 0', 'region', 'week_last_day', 'epidemiological_week'])"
   ]
  },
  {
   "cell_type": "markdown",
   "metadata": {},
   "source": [
    "### Anexando indicadores ao Dataframe de Tweets e Usuários"
   ]
  },
  {
   "cell_type": "code",
   "execution_count": 84,
   "metadata": {},
   "outputs": [],
   "source": [
    "for column in indicadores.columns:\n",
    "    tweets[column] = indicadores[column]"
   ]
  },
  {
   "cell_type": "code",
   "execution_count": 85,
   "metadata": {},
   "outputs": [],
   "source": [
    "tweets.to_csv('tweets_and_indicators.csv', index=False)"
   ]
  },
  {
   "cell_type": "markdown",
   "metadata": {},
   "source": [
    "Descartando a última semana, que contém dados incompletos"
   ]
  },
  {
   "cell_type": "code",
   "execution_count": 97,
   "metadata": {},
   "outputs": [],
   "source": [
    "df = tweets[:-1]"
   ]
  },
  {
   "cell_type": "markdown",
   "metadata": {},
   "source": [
    "## Plotando gráficos"
   ]
  },
  {
   "cell_type": "code",
   "execution_count": 110,
   "metadata": {},
   "outputs": [],
   "source": [
    "import plotly.graph_objects as go\n",
    "from plotly.subplots import make_subplots"
   ]
  },
  {
   "cell_type": "markdown",
   "metadata": {},
   "source": [
    "#### Razão <i>Tweets</i>/<i>Retweets</i> por semana"
   ]
  },
  {
   "cell_type": "code",
   "execution_count": 116,
   "metadata": {},
   "outputs": [],
   "source": [
    "fig = make_subplots()\n",
    "fig.add_trace(go.Scatter(y=df['tweets']/df['retweets'], x=df['date'],  name='<i>Tweets/Retweets</i> por semana'))\n",
    "\n",
    "# Add figure title\n",
    "fig.update_layout(\n",
    "    title_text=\"Razão <i>Tweets</i>/<i>Retweets</i> por semana\"\n",
    ")\n",
    "# Set y-axes titles\n",
    "fig.update_yaxes(title_text=\"<i>Tweets</i>/Retweets por semana\", range=[0,1])\n",
    "\n",
    "fig.write_html('html/tweets_over_retweets.html')\n",
    "fig.write_image('svg/tweets_over_retweets.svg', width=1280, height=720)"
   ]
  },
  {
   "cell_type": "markdown",
   "metadata": {},
   "source": [
    "#### Razão <i>Tweets</i>/<i>Usuários</i> por semana"
   ]
  },
  {
   "cell_type": "code",
   "execution_count": 111,
   "metadata": {},
   "outputs": [],
   "source": [
    "fig = make_subplots()\n",
    "fig.add_trace(go.Scatter(y=df['tweets']/df['tweets_users'], x=df['date'],  name='<i>Tweets</i>/Usuários por semana'))\n",
    "\n",
    "# Add figure title\n",
    "fig.update_layout(\n",
    "    title_text=\"Razão <i>Tweets</i>/Usuários por semana\"\n",
    ")\n",
    "# Set y-axes titles\n",
    "fig.update_yaxes(title_text=\"<i>Tweets</i>/Usuários por semana\", range=[0,5])\n",
    "\n",
    "fig.write_html('html/tweets_over_users.html')\n",
    "fig.write_image('svg/tweets_over_users.svg', width=1280, height=720)"
   ]
  },
  {
   "cell_type": "markdown",
   "metadata": {},
   "source": [
    "#### Razão <i>Reweets</i>/<i>Usuários</i> por semana"
   ]
  },
  {
   "cell_type": "code",
   "execution_count": 112,
   "metadata": {},
   "outputs": [],
   "source": [
    "fig = make_subplots()\n",
    "fig.add_trace(go.Scatter(y=df['retweets']/df['retweets_users'], x=df['date'],  name='<i>Retweets</i>/Usuários por semana'))\n",
    "\n",
    "# Add figure title\n",
    "fig.update_layout(\n",
    "    title_text=\"Razão <i>Retweets</i>/Usuários por semana\"\n",
    ")\n",
    "# Set y-axes titles\n",
    "fig.update_yaxes(title_text=\"<i>Retweets</i>/Usuários por semana\", range=[0,5])\n",
    "\n",
    "fig.write_html('html/retweets_over_users.html')\n",
    "fig.write_image('svg/retweets_over_users.svg', width=1280, height=720)"
   ]
  },
  {
   "cell_type": "markdown",
   "metadata": {},
   "source": [
    "#### Comparação da razão <i>Tweets</i> vs. <i>Reweets</i>/<i>Usuários</i> por semana"
   ]
  },
  {
   "cell_type": "code",
   "execution_count": 113,
   "metadata": {},
   "outputs": [],
   "source": [
    "fig = make_subplots()\n",
    "fig.add_trace(go.Scatter(y=df['retweets']/df['retweets_users'], x=df['date'],  name='<i>Retweets</i>/Usuários por semana'))\n",
    "fig.add_trace(go.Scatter(y=df['tweets']/df['tweets_users'], x=df['date'],  name='<i>Tweets</i>/Usuários por semana'))\n",
    "\n",
    "\n",
    "# Add figure title\n",
    "fig.update_layout(\n",
    "    title_text=\"Comparação da razão <i>Retweets</i>/<i>Usuários</i> por semana\"\n",
    ")\n",
    "# Set y-axes titles\n",
    "fig.update_yaxes(title_text=\"<i>Tweets</i>/Usuários por semana\", range=[0,5])\n",
    "\n",
    "fig.write_html('html/tweets_vs_retweets_over_users.html')\n",
    "fig.write_image('svg/tweets_vs_retweets_over_users.svg', width=1280, height=720)"
   ]
  },
  {
   "cell_type": "markdown",
   "metadata": {},
   "source": [
    "#### Razão <i>Total de Tweets</i>/<i>Usuários</i> por semana"
   ]
  },
  {
   "cell_type": "code",
   "execution_count": 114,
   "metadata": {},
   "outputs": [],
   "source": [
    "fig = make_subplots()\n",
    "fig.add_trace(go.Scatter(y=df['total']/df['total_users'], x=df['date'],  name='Total de <i>Tweets</i>/Usuários por semana'))\n",
    "\n",
    "# Add figure title\n",
    "fig.update_layout(\n",
    "    title_text=\"Razão Total de <i>Tweets</i>/Usuários por semana\"\n",
    ")\n",
    "# Set y-axes titles\n",
    "fig.update_yaxes(title_text=\"Total de <i>Tweets</i>/Usuários por semana\", range=[0,5])\n",
    "\n",
    "fig.write_html('html/total_tweets_over_users.html')\n",
    "fig.write_image('svg/total_tweets_over_users.svg', width=1280, height=720)"
   ]
  },
  {
   "cell_type": "markdown",
   "metadata": {},
   "source": [
    "#### Total de <i>Tweets</i> vs. Novos óbitos por semana"
   ]
  },
  {
   "cell_type": "code",
   "execution_count": 115,
   "metadata": {},
   "outputs": [],
   "source": [
    "fig = make_subplots(specs=[[{\"secondary_y\": True}]])\n",
    "fig.add_trace(go.Scatter(y=df['tweets'], x=df['date'],  name='Total de <i>Tweets</i> por semana'), secondary_y = True)\n",
    "fig.add_trace(go.Scatter(y=df['new_week_deaths'], x=df['date'],  name='<i>Novos óbitos</i> por semana'), secondary_y=False)\n",
    "\n",
    "\n",
    "# Add figure title\n",
    "fig.update_layout(\n",
    "    title_text=\"Total de <i>Tweets</i> vs. Novos óbitos por semana\"\n",
    ")\n",
    "# Set y-axes titles\n",
    "fig.update_yaxes(title_text=\"Novos óbitos por semana\", secondary_y=False)\n",
    "fig.update_yaxes(title_text=\"Total de <i>Tweets</i> por semana\", secondary_y=True)\n",
    "\n",
    "fig.write_html('html/total_tweets_vs_deaths.html')\n",
    "fig.write_image('svg/total_tweets_vs_deaths.svg', width=1280, height=720)"
   ]
  }
 ],
 "metadata": {
  "kernelspec": {
   "display_name": "env",
   "language": "python",
   "name": "env"
  },
  "language_info": {
   "codemirror_mode": {
    "name": "ipython",
    "version": 3
   },
   "file_extension": ".py",
   "mimetype": "text/x-python",
   "name": "python",
   "nbconvert_exporter": "python",
   "pygments_lexer": "ipython3",
   "version": "3.8.3"
  }
 },
 "nbformat": 4,
 "nbformat_minor": 4
}
