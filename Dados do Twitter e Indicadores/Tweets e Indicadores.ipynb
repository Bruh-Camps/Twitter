{
 "cells": [
  {
   "cell_type": "markdown",
   "metadata": {},
   "source": [
    "# Produção dos gráficos de Tweets vs. Indicadores"
   ]
  },
  {
   "cell_type": "code",
   "execution_count": 1,
   "metadata": {},
   "outputs": [],
   "source": [
    "import pandas as pd\n",
    "from datetime import datetime\n",
    "import os"
   ]
  },
  {
   "cell_type": "markdown",
   "metadata": {},
   "source": [
    "# Bases de dados"
   ]
  },
  {
   "cell_type": "markdown",
   "metadata": {},
   "source": [
    "Os gráficos gerados nesse notebook utilizam os seguintes dados:\n",
    "\n",
    "    - Novos casos por semana\n",
    "    - Novos casos por semana(MM)\n",
    "    - Número de Tweets\n",
    "    - Número de Retweets\n",
    "    - Número de Tweets + Retweets\n",
    "\n",
    "<b>Observações:</b> O número de Tweets não contém os Retweets; Pode-se utilizar quaisquer indicadores presentes no arquivo `indicadores.csv`."
   ]
  },
  {
   "cell_type": "markdown",
   "metadata": {},
   "source": [
    " ### Leitura e tratamento dos indicadores"
   ]
  },
  {
   "cell_type": "code",
   "execution_count": 4,
   "metadata": {},
   "outputs": [],
   "source": [
    "indicadores = pd.read_csv('indicadores.csv')\n",
    "indicadores = indicadores[indicadores['region'] == 'Brasil'] # Separando apenas os dados do Brasil (descartando as Regiões)\n",
    "indicadores = indicadores.sort_values('week_last_day') # Ordenando pelo último dia da semana, em vez de semana epidemiológica\n",
    "indicadores['week_last_day'] = indicadores['week_last_day'].apply(lambda x: datetime.strptime(x, '%d/%m/%Y')) # Convertendo os dias de String para Datetime\n",
    "\n",
    "indicadores = indicadores[['week_last_day', 'new_week_cases', 'new_week_cases_mm']] # Retirando demais indicadores, mantendo apenas o \"new_week_cases\"\n",
    "indicadores.columns = ['date', 'nw_cases', 'nw_cases_mm'] # Renomeando as colunas\n",
    "indicadores = indicadores.sort_values(by='date') # Ordenando por data\n",
    "indicadores['date'] = pd.to_datetime(indicadores['date']) # Convertendo as datas para Timestamps do Pandas\n",
    "\n",
    "indicadores = indicadores[indicadores['date'] >= pd.to_datetime('2020-05-09')] # Cortando primeiras semanas para parear com o \"df\""
   ]
  },
  {
   "cell_type": "markdown",
   "metadata": {},
   "source": [
    "### Lendo bases de dados"
   ]
  },
  {
   "cell_type": "code",
   "execution_count": 8,
   "metadata": {},
   "outputs": [],
   "source": [
    "df = pd.read_csv('tweets_dates.csv')\n",
    "rt_df = pd.read_csv('retweets_dates.csv')"
   ]
  },
  {
   "cell_type": "markdown",
   "metadata": {},
   "source": [
    "Gerando um Dataframe com o número total de tweets"
   ]
  },
  {
   "cell_type": "code",
   "execution_count": 10,
   "metadata": {},
   "outputs": [],
   "source": [
    "total_df = pd.DataFrame.copy(df)\n",
    "total_df['count'] += rt_df['count']"
   ]
  },
  {
   "cell_type": "markdown",
   "metadata": {},
   "source": [
    "# Plotagem de gráficos"
   ]
  },
  {
   "cell_type": "markdown",
   "metadata": {},
   "source": [
    "Aqui, são possíveis várias combinações. Por isso as plotagens são extensas, mas todas semelhantes uma à outra."
   ]
  },
  {
   "cell_type": "markdown",
   "metadata": {},
   "source": [
    "# Tweets e Retweets"
   ]
  },
  {
   "cell_type": "markdown",
   "metadata": {},
   "source": [
    "### Plotando gráfico da razão <i>Tweets</i> por semana / <i>Reweets</i> por semana"
   ]
  },
  {
   "cell_type": "code",
   "execution_count": 11,
   "metadata": {},
   "outputs": [],
   "source": [
    "import plotly.graph_objects as go\n",
    "from plotly.subplots import make_subplots\n",
    "\n",
    "fig = make_subplots()\n",
    "fig.add_trace(go.Scatter(y=df['count']/rt_df['count'], x=df['date'],  name='<i>Tweets/Retweets</i> por semana'))\n",
    "\n",
    "# Add figure title\n",
    "fig.update_layout(\n",
    "    title_text=\"Razão <i>Tweets</i>/<i>Retweets</i> por semana\"\n",
    ")\n",
    "# Set y-axes titles\n",
    "fig.update_yaxes(title_text=\"<i>Tweets</i>/Retweets por semana\", range=[0,1])\n",
    "\n",
    "fig.write_html('tweets_over_retweets.html')\n",
    "fig.write_image('svg/tweets_over_retweets.svg', width=1280, height=720)"
   ]
  },
  {
   "cell_type": "markdown",
   "metadata": {},
   "source": [
    "### Plotando gráfico <i>Tweets</i> por semana vs. <i>Reweets</i> por semana"
   ]
  },
  {
   "cell_type": "code",
   "execution_count": 116,
   "metadata": {},
   "outputs": [],
   "source": [
    "import plotly.graph_objects as go\n",
    "from plotly.subplots import make_subplots\n",
    "\n",
    "fig = make_subplots()\n",
    "fig.add_trace(go.Scatter(y=df['count'], x=df['date'],  name='<i>Tweets</i> por semana'))\n",
    "fig.add_trace(go.Scatter(y=rt_df['count'], x=rt_df['date'], name='<i>Retweets</i> por semana'))\n",
    "\n",
    "# Add figure title\n",
    "fig.update_layout(\n",
    "    title_text=\"<i>Tweets</i> por semana vs. <i>Retweets</i> por semana\"\n",
    ")\n",
    "# Set y-axes titles\n",
    "fig.update_yaxes(title_text=\"<i>Tweets</i> por semana\", secondary_y=True)\n",
    "\n",
    "fig.write_html('tweets_vs_retweets.html')\n",
    "fig.write_image('svg/tweets_vs_retweets.svg', width=1280, height=720)"
   ]
  },
  {
   "cell_type": "markdown",
   "metadata": {},
   "source": [
    "### Plotando gráfico <i>Tweets</i> por semana vs. <i>Tweets + Reweets</i> por semana"
   ]
  },
  {
   "cell_type": "code",
   "execution_count": 117,
   "metadata": {},
   "outputs": [],
   "source": [
    "import plotly.graph_objects as go\n",
    "from plotly.subplots import make_subplots\n",
    "\n",
    "fig = make_subplots()\n",
    "fig.add_trace(go.Scatter(y=df['count'], x=df['date'],  name='<i>Tweets</i> por semana'))\n",
    "fig.add_trace(go.Scatter(y=rt_df['count'], x=rt_df['date'], name='<i>Retweets</i> por semana'))\n",
    "\n",
    "# Add figure title\n",
    "fig.update_layout(\n",
    "    title_text=\"<i>Tweets</i> por semana vs. <i>Retweets</i> por semana\"\n",
    ")\n",
    "\n",
    "# Set y-axes titles\n",
    "fig.update_yaxes(title_text=\"<i>Tweets</i> por semana\", secondary_y=True)\n",
    "\n",
    "fig.write_html('tweets_vs_retweets.html')\n",
    "fig.write_image('svg/tweets_vs_retweets.svg', width=1280, height=720)"
   ]
  },
  {
   "cell_type": "markdown",
   "metadata": {},
   "source": [
    "# Novos casos por semana e Tweets"
   ]
  },
  {
   "cell_type": "markdown",
   "metadata": {},
   "source": [
    "### Plotando gráfico <i>Tweets</i> por semana vs. Novos casos por semana"
   ]
  },
  {
   "cell_type": "code",
   "execution_count": 118,
   "metadata": {},
   "outputs": [],
   "source": [
    "import plotly.graph_objects as go\n",
    "from plotly.subplots import make_subplots\n",
    "\n",
    "fig = make_subplots(specs=[[{\"secondary_y\": True}]])\n",
    "fig.add_trace(go.Scatter(y=df['count'], x=df['date'], mode='lines', name='Tweets por semana'), secondary_y=True)\n",
    "fig.add_trace(go.Scatter(y=indicadores['nw_cases'], x=indicadores['date'], mode='lines', name='Novos casos por semana'), secondary_y=False)\n",
    "\n",
    "# Add figure title\n",
    "fig.update_layout(\n",
    "    title_text=\"<i>Tweets</i> por semana vs. Novos casos por semana\"\n",
    ")\n",
    "\n",
    "# Set y-axes titles\n",
    "fig.update_yaxes(title_text=\"Novos casos por semana\", secondary_y=False)\n",
    "fig.update_yaxes(title_text=\"Tweets por semana\", secondary_y=True)\n",
    "\n",
    "fig.write_html('cases_vs_tweets.html')\n",
    "fig.write_image('svg/cases_vs_tweets.svg', width=1280, height=720)"
   ]
  },
  {
   "cell_type": "markdown",
   "metadata": {},
   "source": [
    "### Plotando gráfico <i>Tweets</i> por semana vs. Novos casos por semana (MM)"
   ]
  },
  {
   "cell_type": "code",
   "execution_count": 119,
   "metadata": {},
   "outputs": [],
   "source": [
    "import plotly.graph_objects as go\n",
    "from plotly.subplots import make_subplots\n",
    "\n",
    "fig = make_subplots(specs=[[{\"secondary_y\": True}]])\n",
    "fig.add_trace(go.Scatter(y=df['count'], x=df['date'], mode='lines', name='Tweets por semana'), secondary_y=True)\n",
    "fig.add_trace(go.Scatter(y=indicadores['nw_cases_mm'], x=indicadores['date'], mode='lines', name='Novos casos por semana (MM)'), secondary_y=False)\n",
    "\n",
    "# Add figure title\n",
    "fig.update_layout(\n",
    "    title_text=\"<i>Tweets</i> por semana vs. Novos casos por semana (MM)\"\n",
    ")\n",
    "\n",
    "# Set y-axes titles\n",
    "fig.update_yaxes(title_text=\"Novos casos por semana (MM)\", secondary_y=False)\n",
    "fig.update_yaxes(title_text=\"Tweets por semana\", secondary_y=True)\n",
    "\n",
    "fig.write_html('cases_vs_tweets_mm.html')\n",
    "fig.write_image('svg/cases_vs_tweets_mm.svg', width=1280, height=720)"
   ]
  },
  {
   "cell_type": "markdown",
   "metadata": {},
   "source": [
    "# Novos casos por semana e Retweets"
   ]
  },
  {
   "cell_type": "markdown",
   "metadata": {},
   "source": [
    "### Plotando gráfico <i>Retweets</i> por semana vs. Novos casos por semana"
   ]
  },
  {
   "cell_type": "code",
   "execution_count": 120,
   "metadata": {},
   "outputs": [],
   "source": [
    "import plotly.graph_objects as go\n",
    "from plotly.subplots import make_subplots\n",
    "\n",
    "fig = make_subplots(specs=[[{\"secondary_y\": True}]])\n",
    "fig.add_trace(go.Scatter(y=rt_df['count'], x=rt_df['date'], mode='lines', name='<i>Retweets</i> por semana'), secondary_y=True)\n",
    "fig.add_trace(go.Scatter(y=indicadores['nw_cases'], x=indicadores['date'], mode='lines', name='Novos casos por semana'), secondary_y=False)\n",
    "\n",
    "# Add figure title\n",
    "fig.update_layout(\n",
    "    title_text=\"<i>Retweets</i> por semana vs. Novos casos por semana\"\n",
    ")\n",
    "\n",
    "# Set y-axes titles\n",
    "fig.update_yaxes(title_text=\"Novos casos por semana\", secondary_y=False)\n",
    "fig.update_yaxes(title_text=\"<i>Retweets</i> por semana\", secondary_y=True)\n",
    "\n",
    "fig.write_html('cases_vs_retweets.html')\n",
    "fig.write_image('svg/cases_vs_retweets.svg', width=1280, height=720)"
   ]
  },
  {
   "cell_type": "markdown",
   "metadata": {},
   "source": [
    "### Plotando gráfico <i>Retweets</i> por semana vs. Novos casos por semana (MM)"
   ]
  },
  {
   "cell_type": "code",
   "execution_count": 121,
   "metadata": {},
   "outputs": [],
   "source": [
    "import plotly.graph_objects as go\n",
    "from plotly.subplots import make_subplots\n",
    "\n",
    "fig = make_subplots(specs=[[{\"secondary_y\": True}]])\n",
    "fig.add_trace(go.Scatter(y=rt_df['count'], x=rt_df['date'], mode='lines', name='<i>Retweets</i> por semana'), secondary_y=True)\n",
    "fig.add_trace(go.Scatter(y=indicadores['nw_cases_mm'], x=indicadores['date'], mode='lines', name='Novos casos por semana (MM)'), secondary_y=False)\n",
    "\n",
    "# Add figure title\n",
    "fig.update_layout(\n",
    "    title_text=\"<i>Retweets</i> por semana vs. Novos casos por semana (MM)\"\n",
    ")\n",
    "\n",
    "# Set y-axes titles\n",
    "fig.update_yaxes(title_text=\"Novos casos por semana (MM)\", secondary_y=False)\n",
    "fig.update_yaxes(title_text=\"<i>Retweets</i> por semana\", secondary_y=True)\n",
    "\n",
    "fig.write_html('cases_vs_retweets_mm.html')\n",
    "fig.write_image('svg/cases_vs_retweets_mm.svg', width=1280, height=720)"
   ]
  },
  {
   "cell_type": "markdown",
   "metadata": {},
   "source": [
    "# Novos casos por semana e Tweets + Retweets"
   ]
  },
  {
   "cell_type": "markdown",
   "metadata": {},
   "source": [
    "### Plotando gráfico <i>Tweets + Retweets</i> por semana vs. Novos casos por semana"
   ]
  },
  {
   "cell_type": "code",
   "execution_count": 122,
   "metadata": {},
   "outputs": [],
   "source": [
    "import plotly.graph_objects as go\n",
    "from plotly.subplots import make_subplots\n",
    "\n",
    "fig = make_subplots(specs=[[{\"secondary_y\": True}]])\n",
    "fig.add_trace(go.Scatter(y=total_df['count'], x=total_df['date'], mode='lines', name='<i>Tweets + Retweets</i> por semana'), secondary_y=True)\n",
    "fig.add_trace(go.Scatter(y=indicadores['nw_cases'], x=indicadores['date'], mode='lines', name='Novos casos por semana'), secondary_y=False)\n",
    "\n",
    "# Add figure title\n",
    "fig.update_layout(\n",
    "    title_text=\"<i>Tweets + Retweets</i> por semana vs. Novos casos por semana\"\n",
    ")\n",
    "\n",
    "# Set y-axes titles\n",
    "fig.update_yaxes(title_text=\"Novos casos por semana\", secondary_y=False)\n",
    "fig.update_yaxes(title_text=\"<i>Tweets + Retweets</i> por semana\", secondary_y=True)\n",
    "\n",
    "fig.write_html('cases_vs_totaltweets.html')\n",
    "fig.write_image('svg/cases_vs_totaltweets.svg', width=1280, height=720)"
   ]
  },
  {
   "cell_type": "markdown",
   "metadata": {},
   "source": [
    "### Plotando gráfico <i>Tweets + Retweets</i> por semana vs. Novos casos por semana (MM)"
   ]
  },
  {
   "cell_type": "code",
   "execution_count": 123,
   "metadata": {},
   "outputs": [],
   "source": [
    "import plotly.graph_objects as go\n",
    "from plotly.subplots import make_subplots\n",
    "\n",
    "fig = make_subplots(specs=[[{\"secondary_y\": True}]])\n",
    "fig.add_trace(go.Scatter(y=total_df['count'], x=total_df['date'], mode='lines', name='<i>Tweets + Retweets</i> por semana'), secondary_y=True)\n",
    "fig.add_trace(go.Scatter(y=indicadores['nw_cases_mm'], x=indicadores['date'], mode='lines', name='Novos casos por semana (MM)'), secondary_y=False)\n",
    "\n",
    "# Add figure title\n",
    "fig.update_layout(\n",
    "    title_text=\"<i>Tweets + Retweets</i> por semana vs. Novos casos por semana (MM)\"\n",
    ")\n",
    "\n",
    "# Set y-axes titles\n",
    "fig.update_yaxes(title_text=\"Novos casos por semana (MM)\", secondary_y=False)\n",
    "fig.update_yaxes(title_text=\"<i>Tweets + Retweets</i> por semana\", secondary_y=True)\n",
    "\n",
    "fig.write_html('cases_vs_totaltweets_mm.html')\n",
    "fig.write_image('svg/cases_vs_totaltweets_mm.svg', width=1280, height=720)"
   ]
  }
 ],
 "metadata": {
  "kernelspec": {
   "display_name": "env",
   "language": "python",
   "name": "env"
  },
  "language_info": {
   "codemirror_mode": {
    "name": "ipython",
    "version": 3
   },
   "file_extension": ".py",
   "mimetype": "text/x-python",
   "name": "python",
   "nbconvert_exporter": "python",
   "pygments_lexer": "ipython3",
   "version": "3.8.3"
  }
 },
 "nbformat": 4,
 "nbformat_minor": 4
}
